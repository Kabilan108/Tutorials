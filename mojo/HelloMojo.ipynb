{
 "cells": [
  {
   "attachments": {},
   "cell_type": "markdown",
   "metadata": {},
   "source": [
    "# Mojo  Basics\n",
    "\n",
    "- Designed for high-performance systems programming\n",
    "    - commonalities with C++ and Rust\n",
    "- Superset of python"
   ]
  },
  {
   "cell_type": "code",
   "execution_count": 1,
   "metadata": {},
   "outputs": [
    {
     "name": "stdout",
     "output_type": "stream",
     "text": [
      "Hello world!\n"
     ]
    }
   ],
   "source": [
    "print(\"Hello world!\")"
   ]
  },
  {
   "attachments": {},
   "cell_type": "markdown",
   "metadata": {},
   "source": [
    "## Language Basics\n",
    "\n",
    "- Compiled language\n",
    "    - either AOT or JIT\n",
    "    - the `main` function serves as the entry point"
   ]
  },
  {
   "cell_type": "code",
   "execution_count": 7,
   "metadata": {},
   "outputs": [],
   "source": [
    "fn main():\n",
    "    var x: Int = 1\n",
    "    x += 1 \n",
    "    print(x)"
   ]
  },
  {
   "attachments": {},
   "cell_type": "markdown",
   "metadata": {},
   "source": [
    "- Can't run top-level code in .mojo files\n",
    "- everything MUST be in a function or struct\n",
    "- top level code only works in Notebooks and the REPL\n",
    "\n",
    "## `fn` vs `def`\n",
    "\n",
    "- `fn` enforces strongly-typed, memory-safe behavior\n",
    "- `def` supports pythonic dynamic behavior\n",
    "\n",
    "## variables\n",
    "\n",
    "- declared with:\n",
    "    - `var` for mutable values\n",
    "    - `let` for immutable values"
   ]
  },
  {
   "cell_type": "code",
   "execution_count": 8,
   "metadata": {},
   "outputs": [
    {
     "name": "stderr",
     "output_type": "stream",
     "text": [
      "error: \u001b[0;1;31m\u001b[1mExpression [8]:3:5: \u001b[0m\u001b[1mexpression must be mutable for in-place operator destination\n",
      "\u001b[0m    x += 1 \n",
      "\u001b[0;1;32m    ^\n",
      "\u001b[0m\u001b[0m\n",
      "expression failed to parse (no further compiler diagnostics)"
     ]
    }
   ],
   "source": [
    "fn main():\n",
    "    let x: Int = 1\n",
    "    x += 1 \n",
    "    print(x)"
   ]
  },
  {
   "cell_type": "code",
   "execution_count": 14,
   "metadata": {},
   "outputs": [
    {
     "name": "stdout",
     "output_type": "stream",
     "text": [
      "3\n"
     ]
    }
   ],
   "source": [
    "fn do_math():\n",
    "    let x: Int = 1\n",
    "    let y = 2\n",
    "    print(x + y)\n",
    "\n",
    "do_math()"
   ]
  },
  {
   "attachments": {},
   "cell_type": "markdown",
   "metadata": {},
   "source": [
    "**function args**\n",
    "\n",
    "- types required for arguments and return variables\n",
    "- arguments in a `fn` declaration are **Immutable** by default (\"borrowing\")\n",
    "    - borrowing basically means that only the value of the variable is read\n",
    "      but no copy is made."
   ]
  },
  {
   "cell_type": "code",
   "execution_count": 13,
   "metadata": {},
   "outputs": [
    {
     "name": "stdout",
     "output_type": "stream",
     "text": [
      "3\n"
     ]
    }
   ],
   "source": [
    "fn add(x: Int, y: Int) -> Int:\n",
    "    return x + y\n",
    "\n",
    "z = add(1, 2)\n",
    "print(z)"
   ]
  },
  {
   "cell_type": "code",
   "execution_count": 16,
   "metadata": {},
   "outputs": [
    {
     "name": "stdout",
     "output_type": "stream",
     "text": [
      "4\n",
      "8\n"
     ]
    }
   ],
   "source": [
    "# optional args\n",
    "fn pow(base: Int, exp: Int=2) -> Int:\n",
    "    return base ** exp\n",
    "\n",
    "# default\n",
    "z = pow(2)\n",
    "print(z)\n",
    "\n",
    "# kwarg\n",
    "z = pow(exp=3, base=2)\n",
    "print(z)"
   ]
  },
  {
   "cell_type": "code",
   "execution_count": 19,
   "metadata": {},
   "outputs": [
    {
     "name": "stdout",
     "output_type": "stream",
     "text": [
      "3\n"
     ]
    }
   ],
   "source": [
    "fn add(borrowed x: Int, borrowed y: Int) -> Int:\n",
    "    \"\"\"Arguments are borrowed by default.\"\"\"\n",
    "    return x + y\n",
    "\n",
    "print(add(1,2))"
   ]
  },
  {
   "attachments": {},
   "cell_type": "markdown",
   "metadata": {},
   "source": [
    "- to make the arguments mutable, use the `inout` keyword\n",
    "    - changes mad inside the function are visible outside"
   ]
  },
  {
   "cell_type": "code",
   "execution_count": 20,
   "metadata": {},
   "outputs": [
    {
     "name": "stdout",
     "output_type": "stream",
     "text": [
      "2\n",
      "2\n",
      "4\n"
     ]
    }
   ],
   "source": [
    "fn add_inout(inout x: Int, inout y: Int) -> Int:\n",
    "    x += 1\n",
    "    return x+y\n",
    "\n",
    "var a = 1\n",
    "var b = 2\n",
    "c = add_inout(a, b)\n",
    "\n",
    "print(a)\n",
    "print(b)\n",
    "print(c)"
   ]
  },
  {
   "attachments": {},
   "cell_type": "markdown",
   "metadata": {},
   "source": [
    "- the `owned` argument will make the function the 'owner' of the value\n",
    "    - it will be mutable, and also a unique copy\n",
    "\n",
    "- mojo will make a copy of `a` and pass it to `text`."
   ]
  },
  {
   "cell_type": "code",
   "execution_count": 21,
   "metadata": {},
   "outputs": [
    {
     "name": "stdout",
     "output_type": "stream",
     "text": [
      "mojo\n",
      "mojo🔥\n"
     ]
    }
   ],
   "source": [
    "fn set_fire(owned text: String) -> String:\n",
    "    text += \"🔥\"\n",
    "    return text\n",
    "\n",
    "fn mojo():\n",
    "    let a: String = \"mojo\"\n",
    "    let b = set_fire(a)\n",
    "    print(a)\n",
    "    print(b)\n",
    "mojo()"
   ]
  },
  {
   "attachments": {},
   "cell_type": "markdown",
   "metadata": {},
   "source": [
    "- if copying is an expensive operation for the type of interest,\n",
    "  ou can add the `^` transfer operator when passing args to a function\n",
    "- this will transer ownership of the var to the function\n",
    "    - destroy the local variable name"
   ]
  },
  {
   "cell_type": "code",
   "execution_count": 25,
   "metadata": {},
   "outputs": [
    {
     "name": "stderr",
     "output_type": "stream",
     "text": [
      "error: \u001b[0;1;31m\u001b[1mExpression [25]:4:10: \u001b[0m\u001b[1muse of uninitialized value 'a'\n",
      "\u001b[0m    print(a)\n",
      "\u001b[0;1;32m         ^\n",
      "\u001b[0m\u001b[0m\n",
      "\u001b[0;1;30m\u001b[1mExpression [25]:2:5: \u001b[0m\u001b[1m'a' declared here\n",
      "\u001b[0m    let a: String = \"mojo\"\n",
      "\u001b[0;1;32m    ^\n",
      "\u001b[0m\u001b[0m\n",
      "expression failed to parse (no further compiler diagnostics)"
     ]
    }
   ],
   "source": [
    "fn mojo():\n",
    "    let a: String = \"mojo\"\n",
    "    let b = set_fire(a^)\n",
    "    print(a)\n",
    "    print(b)\n",
    "\n",
    "mojo()"
   ]
  },
  {
   "attachments": {},
   "cell_type": "markdown",
   "metadata": {},
   "source": [
    "- as of 0.4.0, mojo always makes a copy when a function returns a value"
   ]
  },
  {
   "attachments": {},
   "cell_type": "markdown",
   "metadata": {},
   "source": [
    "### structures\n",
    "\n",
    "- similar to python `class` -> supports methods, fields, operator overloading, decorators\n",
    "- static types -> bound to compiile-time, do not allow runtime changes"
   ]
  },
  {
   "cell_type": "code",
   "execution_count": 27,
   "metadata": {},
   "outputs": [],
   "source": [
    "struct MyPair:\n",
    "    var first: Int\n",
    "    var second: Int\n",
    "\n",
    "    fn __init__(inout self, first: Int, second: Int):\n",
    "        self.first = first\n",
    "        self.second = second\n",
    "    \n",
    "    fn dump(self):\n",
    "        print(self.first, self.second)"
   ]
  },
  {
   "cell_type": "code",
   "execution_count": 28,
   "metadata": {},
   "outputs": [
    {
     "name": "stdout",
     "output_type": "stream",
     "text": [
      "2 4\n"
     ]
    }
   ],
   "source": [
    "let mine = MyPair(2, 4)\n",
    "mine.dump()"
   ]
  },
  {
   "attachments": {},
   "cell_type": "markdown",
   "metadata": {},
   "source": [
    "### python integration\n",
    "\n",
    "- seamless integration with python modules"
   ]
  },
  {
   "cell_type": "code",
   "execution_count": 33,
   "metadata": {},
   "outputs": [
    {
     "name": "stdout",
     "output_type": "stream",
     "text": [
      "[[ 0  1  2  3  4]\n",
      " [ 5  6  7  8  9]\n",
      " [10 11 12 13 14]]\n",
      "(3, 5)\n"
     ]
    }
   ],
   "source": [
    "from python import Python\n",
    "\n",
    "let np = Python.import_module(\"numpy\")\n",
    "\n",
    "ar = np.arange(15).reshape(3, 5)\n",
    "print(ar)\n",
    "print(ar.shape)"
   ]
  },
  {
   "cell_type": "code",
   "execution_count": null,
   "metadata": {},
   "outputs": [],
   "source": []
  }
 ],
 "metadata": {
  "kernelspec": {
   "display_name": "Mojo",
   "language": "mojo",
   "name": "mojo-jupyter-kernel"
  },
  "language_info": {
   "codemirror_mode": {
    "name": "mojo"
   },
   "file_extension": ".mojo",
   "mimetype": "text/x-mojo",
   "name": "mojo"
  },
  "orig_nbformat": 4
 },
 "nbformat": 4,
 "nbformat_minor": 2
}
